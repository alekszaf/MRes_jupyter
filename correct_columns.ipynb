{
 "cells": [
  {
   "cell_type": "code",
   "execution_count": 1,
   "metadata": {},
   "outputs": [],
   "source": [
    "import pandas as pd\n",
    "import numpy as np"
   ]
  },
  {
   "cell_type": "code",
   "execution_count": 8,
   "metadata": {},
   "outputs": [],
   "source": [
    "from IPython.core.interactiveshell import InteractiveShell\n",
    "InteractiveShell.ast_node_interactivity = \"all\"\n",
    "\n",
    "pd.set_option(\"display.max_rows\", 1000, \"display.max_columns\", 1000)"
   ]
  },
  {
   "cell_type": "code",
   "execution_count": 28,
   "metadata": {},
   "outputs": [],
   "source": [
    "ab_3cat = pd.read_csv('C:\\\\Temp\\\\MRes\\\\training_data\\\\AB_3cat.csv')\n",
    "a_full = pd.read_csv('C:\\\\Temp\\MRes\\\\training_data\\\\A_Genus_60p.csv')\n",
    "b_full = pd.read_csv('C:\\\\Temp\\MRes\\\\training_data\\\\B_Genus_60p.csv')\n",
    "ab_6cat = pd.read_csv('C:\\\\Temp\\MRes\\\\training_data\\\\AB_6cat.csv')\n",
    "ab_6cat_50 = pd.read_csv('C:\\\\Temp\\MRes\\\\training_data\\\\AB_6cat_50.csv')\n",
    "ab_3cat_50 = pd.read_csv('C:\\\\Temp\\MRes\\\\training_data\\\\AB_3cat_50.csv')\n",
    "ab_3cat_100 = pd.read_csv('C:\\\\Temp\\MRes\\\\training_data\\\\AB_3cat_100.csv')"
   ]
  },
  {
   "cell_type": "code",
   "execution_count": 23,
   "metadata": {},
   "outputs": [],
   "source": [
    "def column_sort(df1, df2, filepath):\n",
    "    common_cols = [col for col in set(df2.columns).intersection(df1.columns)]\n",
    "    slim = df2[common_cols]\n",
    "    cols = slim.columns.sort_values().values\n",
    "    slim = slim[cols]\n",
    "    slim.to_csv(filepath)"
   ]
  },
  {
   "cell_type": "code",
   "execution_count": 32,
   "metadata": {},
   "outputs": [],
   "source": [
    "column_sort(ab_3cat, ab_3cat_100, 'C:\\\\Temp\\MRes\\\\training_data\\\\AB_3cat_100_slim.csv')"
   ]
  }
 ],
 "metadata": {
  "kernelspec": {
   "display_name": "Python 3",
   "language": "python",
   "name": "python3"
  },
  "language_info": {
   "codemirror_mode": {
    "name": "ipython",
    "version": 3
   },
   "file_extension": ".py",
   "mimetype": "text/x-python",
   "name": "python",
   "nbconvert_exporter": "python",
   "pygments_lexer": "ipython3",
   "version": "3.7.4"
  }
 },
 "nbformat": 4,
 "nbformat_minor": 2
}
